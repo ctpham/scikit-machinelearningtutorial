{
  "cells": [
    {
      "metadata": {},
      "cell_type": "markdown",
      "source": "<small><i>This notebook was put together by [Jake Vanderplas](http://www.vanderplas.com). Source and license info is on [GitHub](https://github.com/jakevdp/sklearn_tutorial/).</i></small>"
    },
    {
      "metadata": {},
      "cell_type": "markdown",
      "source": "# An Introduction to scikit-learn: Machine Learning in Python"
    },
    {
      "metadata": {},
      "cell_type": "markdown",
      "source": "## Goals of this Tutorial"
    },
    {
      "metadata": {},
      "cell_type": "markdown",
      "source": "- **Introduce the basics of Machine Learning**, and some skills useful in practice.\n- **Introduce the syntax of scikit-learn**, so that you can make use of the rich toolset available."
    },
    {
      "metadata": {},
      "cell_type": "markdown",
      "source": "## Schedule:"
    },
    {
      "metadata": {},
      "cell_type": "markdown",
      "source": "**Preliminaries: Setup & introduction** (15 min)\n* Making sure your computer is set-up\n\n**Basic Principles of Machine Learning and the Scikit-learn Interface** (45 min)\n* What is Machine Learning?\n* Machine learning data layout\n* Supervised Learning\n    - Classification\n    - Regression\n    - Measuring performance\n* Unsupervised Learning\n    - Clustering\n    - Dimensionality Reduction\n    - Density Estimation\n* Evaluation of Learning Models\n* Choosing the right algorithm for your dataset\n\n**Supervised learning in-depth** (1 hr)\n* Support Vector Machines\n* Decision Trees and Random Forests\n\n**Unsupervised learning in-depth** (1 hr)\n* Principal Component Analysis\n* K-means Clustering\n* Gaussian Mixture Models\n\n**Model Validation** (1 hr)\n* Validation and Cross-validation"
    },
    {
      "metadata": {},
      "cell_type": "markdown",
      "source": "## Preliminaries"
    },
    {
      "metadata": {},
      "cell_type": "markdown",
      "source": "This tutorial requires the following packages:\n\n- Python version 2.7 or 3.4+\n- `numpy` version 1.8 or later: http://www.numpy.org/\n- `scipy` version 0.15 or later: http://www.scipy.org/\n- `matplotlib` version 1.3 or later: http://matplotlib.org/\n- `scikit-learn` version 0.15 or later: http://scikit-learn.org\n- `ipython`/`jupyter` version 3.0 or later, with notebook support: http://ipython.org\n- `seaborn`: version 0.5 or later, used mainly for plot styling\n\nThe easiest way to get these is to use the [conda](http://store.continuum.io/) environment manager.\nI suggest downloading and installing [miniconda](http://conda.pydata.org/miniconda.html).\n\nThe following command will install all required packages:\n```\n$ conda install numpy scipy matplotlib scikit-learn ipython-notebook\n```\n\nAlternatively, you can download and install the (very large) Anaconda software distribution, found at https://store.continuum.io/."
    },
    {
      "metadata": {},
      "cell_type": "markdown",
      "source": "### Checking your installation\n\nYou can run the following code to check the versions of the packages on your system:\n\n(in IPython notebook, press `shift` and `return` together to execute the contents of a cell)"
    },
    {
      "metadata": {
        "trusted": true
      },
      "cell_type": "code",
      "source": "from __future__ import print_function\n\nimport IPython\nprint('IPython:', IPython.__version__)\n\nimport numpy\nprint('numpy:', numpy.__version__)\n\nimport scipy\nprint('scipy:', scipy.__version__)\n\nimport matplotlib\nprint('matplotlib:', matplotlib.__version__)\n\nimport sklearn\nprint('scikit-learn:', sklearn.__version__)",
      "execution_count": 1,
      "outputs": [
        {
          "output_type": "stream",
          "text": "IPython: 6.2.1\nnumpy: 1.16.0\nscipy: 1.1.0\nmatplotlib: 2.1.1\nscikit-learn: 0.19.1\n",
          "name": "stdout"
        }
      ]
    },
    {
      "metadata": {},
      "cell_type": "markdown",
      "source": "## Useful Resources"
    },
    {
      "metadata": {},
      "cell_type": "markdown",
      "source": "- **scikit-learn:** http://scikit-learn.org (see especially the narrative documentation)\n- **matplotlib:** http://matplotlib.org (see especially the gallery section)\n- **Jupyter:** http://jupyter.org (also check out http://nbviewer.jupyter.org)"
    }
  ],
  "metadata": {
    "kernelspec": {
      "name": "python3",
      "display_name": "Python 3",
      "language": "python"
    },
    "language_info": {
      "mimetype": "text/x-python",
      "nbconvert_exporter": "python",
      "name": "python",
      "file_extension": ".py",
      "version": "3.5.4",
      "pygments_lexer": "ipython3",
      "codemirror_mode": {
        "version": 3,
        "name": "ipython"
      }
    }
  },
  "nbformat": 4,
  "nbformat_minor": 1
}